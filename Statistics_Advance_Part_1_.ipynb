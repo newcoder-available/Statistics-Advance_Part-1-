{
  "nbformat": 4,
  "nbformat_minor": 0,
  "metadata": {
    "colab": {
      "provenance": []
    },
    "kernelspec": {
      "name": "python3",
      "display_name": "Python 3"
    },
    "language_info": {
      "name": "python"
    }
  },
  "cells": [
    {
      "cell_type": "code",
      "execution_count": null,
      "metadata": {
        "id": "Cjf2lJwhxikF"
      },
      "outputs": [],
      "source": []
    },
    {
      "cell_type": "markdown",
      "source": [
        "# 1.What is a random variable in probability theory\n",
        "A random variable is a numerical outcome of a random phenomenon. It assigns numerical values to each possible outcome in a probability experiment.\n",
        "\n",
        "#2.What are the types of random variables\n",
        "There are two main types: Discrete random variables (which take on countable values) and Continuous random variables (which take on any value within a range).\n",
        "\n",
        "#3. What is the difference between discrete and continuous distributions\n",
        "Discrete distributions represent data that can take only specific, separate values, while continuous distributions represent data that can take any value within a range.\n",
        "\n",
        "#4. What are probability distribution functions (PDF)\n",
        "PDFs describe the likelihood of a random variable taking on a specific value. For continuous variables, it represents the relative likelihood of the variable in a given range.\n",
        "#5. How do cumulative distribution functions (CDF) differ from probability distribution functions (PDF)\n",
        "CDF gives the probability that a variable is less than or equal to a value, while PDF gives the relative likelihood of the exact value.\n",
        "\n",
        "#6. What is a discrete uniform distribution\n",
        "A discrete uniform distribution is where all outcomes are equally likely within a finite set of values.\n",
        "\n",
        "#7. What are the key properties of a Bernoulli distribution\n",
        "It has two possible outcomes (success/failure) with a single trial. The probability of success is p, and failure is 1-p.\n",
        "\n",
        "#8. What is the binomial distribution, and how is it used in probability\n",
        "The binomial distribution models the number of successes in a fixed number of independent trials with the same probability of success.\n",
        "\n",
        "#9. What is the Poisson distribution and where is it applied\n",
        "It models the number of events occurring in a fixed interval of time or space, typically when events occur independently and at a constant average rate.\n",
        "\n",
        "#10. What is a continuous uniform distribution\n",
        "It is a distribution where all outcomes are equally likely within a continuous interval.\n",
        "\n",
        "#11. What are the characteristics of a normal distribution\n",
        "It is symmetric, bell-shaped, and characterized by its mean and standard deviation. Most data lies within three standard deviations from the mean.\n",
        "\n",
        "#12. What is the standard normal distribution, and why is it important\n",
        "It's a normal distribution with mean 0 and standard deviation 1. It's used for standardizing data and performing Z-tests.\n",
        "\n",
        "#13. What is the Central Limit Theorem (CLT), and why is it critical in statistics\n",
        "CLT states that the sampling distribution of the sample mean approaches a normal distribution as the sample size increases, regardless of the population's distribution.\n",
        "\n",
        "#14. How does the Central Limit Theorem relate to the normal distribution\n",
        "It explains why many distributions tend to be normal for large samples, allowing use of normal-based statistical methods.\n",
        "\n",
        "#15.What is the application of Z statistics in hypothesis testing\n",
        "Z statistics help determine how far a sample statistic is from the population parameter under the null hypothesis.\n",
        "\n",
        "#16. How do you calculate a Z-score, and what does it represent\n",
        "Z = (X - μ) / σ, where X is the value, μ is the mean, and σ is the standard deviation. It represents how many standard deviations a value is from the mean.\n",
        "\n",
        "#17. What are point estimates and interval estimates in statistics\n",
        "Point estimates give a single value estimate of a parameter; interval estimates provide a range (like confidence intervals) likely to contain the parameter.\n",
        "\n",
        "#18. What is the significance of confidence intervals in statistical analysis\n",
        "Confidence intervals provide a range within which we expect the true population parameter to lie, with a certain level of confidence (e.g., 95%).\n",
        "\n",
        "#19. What is the relationship between a Z-score and a confidence interval\n",
        "Z-scores help determine the critical values for confidence intervals under the standard normal distribution.\n",
        "\n",
        "#20 .How are Z-scores used to compare different distributions\n",
        "Z-scores standardize different distributions, allowing comparison of data from different scales.\n",
        "\n",
        "#21. What are the assumptions for applying the Central Limit Theorem\n",
        "Samples must be independent, identically distributed, and sufficiently large. For small samples, population should be normal.\n",
        "\n",
        "#22. What is the concept of expected value in a probability distribution\n",
        "The expected value is the long-term average or mean value of a random variable over many trials.\n",
        "\n",
        "#23.How does a probability distribution relate to the expected outcome of a random variable?\n",
        "A probability distribution describes the likelihood of each outcome, which determines the expected value (average outcome over time).\n"
      ],
      "metadata": {
        "id": "qXtvnetwxsWf"
      }
    },
    {
      "cell_type": "code",
      "source": [],
      "metadata": {
        "id": "qMS6eVw8xzlE"
      },
      "execution_count": null,
      "outputs": []
    }
  ]
}